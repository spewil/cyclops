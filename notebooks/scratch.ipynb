{
 "cells": [
  {
   "cell_type": "code",
   "execution_count": 1,
   "metadata": {
    "collapsed": true
   },
   "outputs": [],
   "source": [
    "import matplotlib.pyplot as plt \n",
    "import numpy as np \n",
    "import os\n",
    "import cv2\n",
    "from PIL import Image\n",
    "from time import sleep \n",
    "\n",
    "%matplotlib inline"
   ]
  },
  {
   "cell_type": "code",
   "execution_count": null,
   "metadata": {
    "collapsed": true
   },
   "outputs": [],
   "source": [
    "# create passive dynamics\n",
    "# generate pixel values for an image with a wave packet of red light \n",
    "# make each time step an image, combine images into a movie \n",
    "\n",
    "# compute the wave packet solution for each timestep\n",
    "def f(x,t,A,sig,spt):\n",
    "    return A*np.exp(-(1./sig)*(x-spt*t)**2)\n",
    "\n",
    "A = 1 # amplitude / intensity \n",
    "sig = 5 # width (pixels)\n",
    "spt = 100./3 # pixel-steps per second\n",
    "\n",
    "x = np.arange(100) # one value per pixel\n",
    "timesteps = np.linspace(0,5,40)\n",
    "\n",
    "for step in timesteps:\n",
    "    plt.plot(x,f(x,step,A,sig,spt))\n",
    "plt.show()"
   ]
  },
  {
   "cell_type": "code",
   "execution_count": null,
   "metadata": {
    "collapsed": true
   },
   "outputs": [],
   "source": [
    "# make image arrays, put them into a list \n",
    "\n",
    "# number of frames over three seconds\n",
    "fps = 24 # frame rate, frames per second\n",
    "time = 3 # seconds\n",
    "timesteps = np.linspace(0,3,fps*time)\n",
    "num_pixels = 1000\n",
    "A = 255 # amplitude / intensity \n",
    "sig = 100 # width (pixels)\n",
    "spt = num_pixels/3. # pixel-steps per second\n",
    "y = np.arange(num_pixels)\n",
    "\n",
    "image_arrays = []\n",
    "for t in timesteps:\n",
    "    intensity = f(y,t,A,sig,spt) # np.array((f(y,t,A,sig,spt), np.zeros(num_pixels), np.zeros(num_pixels))).reshape(3,num_pixels).T\n",
    "    image_array = np.tile(intensity,(num_pixels,1))\n",
    "    image_arrays.append(image_array)"
   ]
  },
  {
   "cell_type": "markdown",
   "metadata": {},
   "source": [
    "# noisy gaussian brownian motion image\n",
    "\n",
    "mean is brownian particle, gaussian blurred dot, plus some noise "
   ]
  },
  {
   "cell_type": "code",
   "execution_count": null,
   "metadata": {
    "collapsed": true
   },
   "outputs": [],
   "source": [
    "arrays = Brownian_Blob(num_pixels,10)\n",
    "arrays2video(arrays, 'walking_blob.mp4')\n",
    "\n",
    "frames = video2arrays('walking_blob.mp4')\n",
    "\n",
    "control_arrays = []\n",
    "for frame in frames: \n",
    "    control_arrays.append(255*BangBang(frame,.1))\n",
    "\n",
    "arrays2video(control_arrays, 'controls.mp4')"
   ]
  },
  {
   "cell_type": "code",
   "execution_count": 52,
   "metadata": {},
   "outputs": [
    {
     "name": "stdout",
     "output_type": "stream",
     "text": [
      "[[[0. 1. 1.]\n",
      "  [0. 1. 1.]\n",
      "  [0. 1. 1.]\n",
      "  [0. 1. 1.]]\n",
      "\n",
      " [[0. 1. 1.]\n",
      "  [0. 1. 1.]\n",
      "  [0. 1. 1.]\n",
      "  [0. 1. 1.]]\n",
      "\n",
      " [[0. 1. 1.]\n",
      "  [0. 1. 1.]\n",
      "  [0. 1. 1.]\n",
      "  [0. 1. 1.]]]\n"
     ]
    },
    {
     "data": {
      "image/png": "[encoded data removed]",
      "text/plain": [
       "<matplotlib.figure.Figure at 0x10cd9e490>"
      ]
     },
     "metadata": {},
     "output_type": "display_data"
    },
    {
     "data": {
      "image/png": "[encoded data removed]",
      "text/plain": [
       "<matplotlib.figure.Figure at 0x10c8c4e50>"
      ]
     },
     "metadata": {},
     "output_type": "display_data"
    }
   ],
   "source": [
    "red = np.zeros((3,4))\n",
    "green = np.ones((3,4))\n",
    "blue = np.ones((3,4))\n",
    "\n",
    "RGB = np.empty((red.shape[0],red.shape[1],3))\n",
    "RGB[:,:,0] = red[:,:]\n",
    "RGB[:,:,1] = green[:,:]\n",
    "RGB[:,:,2] = blue[:,:]\n",
    "\n",
    "plt.figure()\n",
    "plt.imshow(RGB)\n",
    "\n",
    "RGB.reshape(red.shape[0],red.shape[1],3)\n",
    "\n",
    "plt.figure()\n",
    "plt.imshow(RGB)\n",
    "\n",
    "print RGB"
   ]
  },
  {
   "cell_type": "code",
   "execution_count": null,
   "metadata": {
    "collapsed": true
   },
   "outputs": [],
   "source": []
  }
 ],
 "metadata": {
  "kernelspec": {
   "display_name": "Python 2",
   "language": "python",
   "name": "python2"
  },
  "language_info": {
   "codemirror_mode": {
    "name": "ipython",
    "version": 2
   },
   "file_extension": ".py",
   "mimetype": "text/x-python",
   "name": "python",
   "nbconvert_exporter": "python",
   "pygments_lexer": "ipython2",
   "version": "2.7.14"
  }
 },
 "nbformat": 4,
 "nbformat_minor": 2
}
