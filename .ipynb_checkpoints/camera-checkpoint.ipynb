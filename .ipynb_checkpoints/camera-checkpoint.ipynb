{
 "cells": [
  {
   "cell_type": "code",
   "execution_count": 2,
   "metadata": {},
   "outputs": [],
   "source": [
    "import ctypes as C\n",
    "SC2_Cam = C.windll.LoadLibrary(\"./SC2_Cam.dll\")\n",
    "SC2_Cam.PCO_ResetLib()\n",
    "PCO_Recorder = C.windll.LoadLibrary(\"./PCO_Recorder.dll\")"
   ]
  },
  {
   "cell_type": "code",
   "execution_count": 5,
   "metadata": {},
   "outputs": [
    {
     "name": "stdout",
     "output_type": "stream",
     "text": [
      "('reset lib:', u'OK.')\n",
      "('open camera:', u\"SDK DLL error 800a300d at device 'camera sdk dll': A DLL could not be found.\")\n",
      "('recorder stop recorder:', u\"SDK DLL error 80003004 at device 'Unknown device': Option is not available.\")('recorder stop recorder:', u\"SDK DLL error 80003004 at device 'Unknown device': Option is not available.\")\n",
      "\n",
      "('recorder delete:', u\"SDK DLL error 80003004 at device 'Unknown device': Option is not available.\")('recorder delete:', u\"SDK DLL error 80003004 at device 'Unknown device': Option is not available.\")\n",
      "\n",
      "('close camera:', u\"SDK DLL error a00a3002 at device 'camera sdk dll': Handle is invalid.\")\n",
      "('close camera:', u\"SDK DLL error a00a3002 at device 'camera sdk dll': Handle is invalid.\")\n",
      "('reset lib:', u'OK.')\n",
      "('reset lib:', u'OK.')\n"
     ]
    }
   ],
   "source": [
    "import pco_camera\n",
    "import ctypes\n",
    "import threading\n",
    "import Tkinter\n",
    "from PIL import Image, ImageTk\n",
    "import numpy\n",
    "\n",
    "\n",
    "class mainWindow():\n",
    "\n",
    "    def __init__(self, x, y):\n",
    "\n",
    "        global sync\n",
    "        self.root = Tkinter.Tk()\n",
    "        self.frame = Tkinter.Frame(self.root, width=x, height=y)\n",
    "        self.frame.pack()\n",
    "        self.canvas = Tkinter.Canvas(self.frame, width=x, height=y)\n",
    "        self.canvas.place(x=-2, y=-2)\n",
    "        self.root.after(10, self.start, x, y)\n",
    "        self.root.mainloop()\n",
    "        sync = 0\n",
    "\n",
    "    def start(self, x, y):\n",
    "\n",
    "        global buffer\n",
    "        np_array = numpy.asarray(buffer)\n",
    "        np_array_1 = np_array.reshape(y, x)\n",
    "        np_array_1.byteswap(True)\n",
    "        im = Image.frombytes('L', (np_array_1.shape[1], np_array_1.shape[0]), np_array_1.astype('b').tostring())\n",
    "        self.photo = ImageTk.PhotoImage(image=im)\n",
    "        self.canvas.delete(\"all\")\n",
    "        self.canvas.create_image(0, 0, image=self.photo, anchor=Tkinter.NW)\n",
    "        self.root.update()\n",
    "        self.root.after(0, self.start, x, y)\n",
    "\n",
    "\n",
    "def cameraGetImages(x, y, exposureMs):\n",
    "\n",
    "    global buffer\n",
    "    global sync\n",
    "    c = pco_camera.camera(x, y, exposureMs)\n",
    "    while sync is 1:\n",
    "        buffer = c.get_image(x, y)\n",
    "    c.close()\n",
    "\n",
    "\n",
    "if __name__ == '__main__':\n",
    "\n",
    "    X = 1392\n",
    "    Y = 1040\n",
    "\n",
    "    buffer = (ctypes.c_uint16 * (X*Y))()\n",
    "    sync = 1\n",
    "\n",
    "    thread1 = threading.Thread(target=mainWindow, args=(X, Y))\n",
    "    thread1.start()\n",
    "\n",
    "    thread2 = threading.Thread(target=cameraGetImages, args=(X, Y, 15))\n",
    "    thread2.start()\n"
   ]
  },
  {
   "cell_type": "code",
   "execution_count": null,
   "metadata": {},
   "outputs": [],
   "source": []
  }
 ],
 "metadata": {
  "kernelspec": {
   "display_name": "Python 2",
   "language": "python",
   "name": "python2"
  },
  "language_info": {
   "codemirror_mode": {
    "name": "ipython",
    "version": 2
   },
   "file_extension": ".py",
   "mimetype": "text/x-python",
   "name": "python",
   "nbconvert_exporter": "python",
   "pygments_lexer": "ipython2",
   "version": "2.7.14"
  }
 },
 "nbformat": 4,
 "nbformat_minor": 2
}
